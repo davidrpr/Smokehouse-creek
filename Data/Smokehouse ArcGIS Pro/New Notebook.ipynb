{
 "cells": [
  {
   "cell_type": "code",
   "execution_count": 1,
   "metadata": {},
   "outputs": [],
   "source": [
    "import arcpy\n",
    "import pandas as pd\n",
    "import numpy as np\n",
    "from datetime import datetime\n",
    "import os\n",
    "import matplotlib.pyplot as plt\n",
    "from osgeo import gdal"
   ]
  },
  {
   "cell_type": "code",
   "execution_count": 2,
   "metadata": {
    "scrolled": true
   },
   "outputs": [
    {
     "ename": "TypeError",
     "evalue": "RasterCalculator() missing 2 required positional arguments: 'rasters' and 'input_names'",
     "output_type": "error",
     "traceback": [
      "\u001b[0;31m---------------------------------------------------------------------------\u001b[0m\n\u001b[0;31mTypeError\u001b[0m                                 Traceback (most recent call last)",
      "In  \u001b[0;34m[2]\u001b[0m:\nLine \u001b[0;34m2\u001b[0m:     output_raster = arcpy.ia.RasterCalculator(\u001b[37m\u001b[39;49;00m\n",
      "\u001b[0;31mTypeError\u001b[0m: RasterCalculator() missing 2 required positional arguments: 'rasters' and 'input_names'\n\u001b[0;31m---------------------------------------------------------------------------\u001b[0m"
     ]
    }
   ],
   "source": [
    "with arcpy.EnvManager(scratchWorkspace=r\"C:\\Users\\rpr_2\\OneDrive\\Escritorio\\BOOTCAMP_GIS\\5_Setup AWS map services for wildfire assessments\\smokehouse\\Smokehouse\\Smokehouse.gdb\"):\n",
    "    output_raster = arcpy.ia.RasterCalculator(\n",
    "        expression='( \"B5_Before_TIF.tif\"- \"B7_Before_TIF.tif\")/( \"B5_Before_TIF.tif\"+ \"B7_Before_TIF.tif\")'\n",
    "    )\n",
    "    output_raster.save(r\"C:\\Users\\rpr_2\\OneDrive\\Escritorio\\BOOTCAMP_GIS\\5_Setup AWS map services for wildfire assessments\\smokehouse\\Smokehouse\\Smokehouse.gdb\\nbr_before\")"
   ]
  },
  {
   "cell_type": "code",
   "execution_count": null,
   "metadata": {},
   "outputs": [],
   "source": []
  }
 ],
 "metadata": {
  "kernelspec": {
   "display_name": "ArcGISPro",
   "language": "Python",
   "name": "python3"
  },
  "language_info": {
   "file_extension": ".py",
   "name": "python",
   "version": "3"
  }
 },
 "nbformat": 4,
 "nbformat_minor": 2
}
